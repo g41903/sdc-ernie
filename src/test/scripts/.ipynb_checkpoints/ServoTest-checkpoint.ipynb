{
 "cells": [
  {
   "cell_type": "code",
   "execution_count": null,
   "metadata": {
    "collapsed": true
   },
   "outputs": [],
   "source": [
    "import rospy\n",
    "from std_msgs.msg import Bool,Float32\n",
    "from ackermann_msgs.msg import AckermannDriveStamped\n",
    "from geometry_msgs.msg import PointStamped, Point\n",
    "import numpy as np\n",
    "import serial\n",
    "\n",
    "class ServoNode(Node):\n",
    "    target_theta = Param(float, default=-np.pi/2)\n",
    "    target_dist = Param(float, default=.3)\n",
    "    gain_theta = Param(float, default=.8)\n",
    "    gain_dist = Param(float, default=-.4)\n",
    "\n",
    "\n",
    "    def __init__(self):\n",
    "        super(ServoNode, self).__init__()\n",
    "        self.object_close = False\n",
    "        self.wall_theta = None\n",
    "        self.wall_dist = None\n",
    "        rospy.Timer(rospy.Duration(.1), self.timer_callback)\n",
    "\n",
    "    pub = rospy.Publisher('/racecar/ackermann_cmd_mux/input/navigation', AckermannDriveStamped, queue_size=10)\n",
    "    pubServo=rospy.Publisher('/arduino/servo/steering_angle',Float32,queue_size=10)\n",
    "    \n",
    "    @Subscriber('/racecar/ackermann_cmd_mux/input/navigation', AckermannDriveStamped)\n",
    "    def aduino_servo_callback(self, msg):\n",
    "        self.data = msg.drive.steering_angle\n",
    "\n",
    "    def timer_callback(self, event):\n",
    "        cmd = AckermannDriveStamped()\n",
    "        cmd.drive.steering_angle = 1.0\n",
    "        cmd.drive.speed=0.1\n",
    "        self.pubServo.publish(cmd)\n",
    "        self.pub.publish(cmd)\n",
    "\n",
    "    def on_shutdown(self):\n",
    "        # Send a stop command before exiting.\n",
    "        self.pub.publish(AckermannDriveStamped())\n",
    "\n",
    "if __name__ == '__main__':\n",
    "    rospy.init_node(\"driver_node\")\n",
    "    node = ServoNode()\n",
    "    rospy.on_shutdown(lambda: node.on_shutdown())\n",
    "    rospy.spin()\n",
    "\n"
   ]
  }
 ],
 "metadata": {
  "kernelspec": {
   "display_name": "Python 2",
   "language": "python",
   "name": "python2"
  },
  "language_info": {
   "codemirror_mode": {
    "name": "ipython",
    "version": 2
   },
   "file_extension": ".py",
   "mimetype": "text/x-python",
   "name": "python",
   "nbconvert_exporter": "python",
   "pygments_lexer": "ipython2",
   "version": "2.7.12"
  }
 },
 "nbformat": 4,
 "nbformat_minor": 2
}
